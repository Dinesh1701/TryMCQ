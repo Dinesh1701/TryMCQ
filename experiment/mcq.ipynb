{
 "cells": [
  {
   "cell_type": "code",
   "execution_count": 1,
   "metadata": {},
   "outputs": [],
   "source": [
    "import os\n",
    "import json\n",
    "import pandas as pd\n",
    "import traceback"
   ]
  },
  {
   "cell_type": "code",
   "execution_count": 2,
   "metadata": {},
   "outputs": [],
   "source": [
    "from langchain_openai import AzureChatOpenAI"
   ]
  },
  {
   "cell_type": "code",
   "execution_count": 3,
   "metadata": {},
   "outputs": [],
   "source": [
    "import os\n",
    "from dotenv import load_dotenv, find_dotenv\n",
    "\n",
    "dotenv_path = find_dotenv()\n"
   ]
  },
  {
   "cell_type": "code",
   "execution_count": 4,
   "metadata": {},
   "outputs": [],
   "source": [
    "LLMclient = AzureChatOpenAI(\n",
    "    azure_deployment=os.getenv('MODEL_NAME'),\n",
    "    azure_endpoint=os.getenv('BASE_API'),\n",
    "    api_key=os.getenv('API_KEY'),\n",
    "    api_version=os.getenv('API_VERSION'),  # Ensure the correct API version is used\n",
    "    model=os.getenv('MODEL_NAME'),\n",
    "    temperature=0.5,\n",
    "    max_tokens=None,\n",
    "    timeout=None,\n",
    "    max_retries=2\n",
    ")"
   ]
  },
  {
   "cell_type": "code",
   "execution_count": 8,
   "metadata": {},
   "outputs": [],
   "source": [
    "from langchain.llms import AzureOpenAI\n",
    "from langchain.prompts import PromptTemplate\n",
    "from langchain.chains import LLMChain\n",
    "from langchain.chains import SequentialChain\n",
    "from langchain.callbacks import get_openai_callback\n",
    "\n",
    "import PyPDF2"
   ]
  },
  {
   "cell_type": "code",
   "execution_count": 9,
   "metadata": {},
   "outputs": [],
   "source": [
    "RESPONSE_JSON = {\n",
    "    \"1\": {\n",
    "        \"mcq\": \"multiple choice question\",\n",
    "        \"options\": {\n",
    "            \"a\": \"choice here\",\n",
    "            \"b\": \"choice here\",\n",
    "            \"c\": \"choice here\",\n",
    "            \"d\": \"choice here\",\n",
    "        },\n",
    "        \"correct\": \"correct answer\",\n",
    "    },\n",
    "    \"2\": {\n",
    "        \"mcq\": \"multiple choice question\",\n",
    "        \"options\": {\n",
    "            \"a\": \"choice here\",\n",
    "            \"b\": \"choice here\",\n",
    "            \"c\": \"choice here\",\n",
    "            \"d\": \"choice here\",\n",
    "        },\n",
    "        \"correct\": \"correct answer\",\n",
    "    },\n",
    "    \"3\": {\n",
    "        \"mcq\": \"multiple choice question\",\n",
    "        \"options\": {\n",
    "            \"a\": \"choice here\",\n",
    "            \"b\": \"choice here\",\n",
    "            \"c\": \"choice here\",\n",
    "            \"d\": \"choice here\",\n",
    "        },\n",
    "        \"correct\": \"correct answer\",\n",
    "    },\n",
    "}"
   ]
  },
  {
   "cell_type": "code",
   "execution_count": 10,
   "metadata": {},
   "outputs": [],
   "source": [
    "TEMPLATE=\"\"\"\n",
    "Text:{text}\n",
    "You are an expert MCQ maker. Given the above text, it is your job to \\\n",
    "create a quiz  of {number} multiple choice questions for {subject} students in {tone} tone. \n",
    "Make sure the questions are not repeated and check all the questions to be conforming the text as well.\n",
    "Make sure to format your response like  RESPONSE_JSON below  and use it as a guide. \\\n",
    "Ensure to make {number} MCQs\n",
    "### RESPONSE_JSON\n",
    "{response_json}\n",
    "\n",
    "\"\"\""
   ]
  },
  {
   "cell_type": "code",
   "execution_count": 11,
   "metadata": {},
   "outputs": [],
   "source": [
    "quiz_prompt = PromptTemplate(\n",
    "    input_variables=[\"text\",\"number\",\"subject\",\"tone\"],\n",
    "    template= TEMPLATE\n",
    ")"
   ]
  },
  {
   "cell_type": "code",
   "execution_count": 14,
   "metadata": {},
   "outputs": [],
   "source": [
    "quiz_chain1 = LLMChain(llm=LLMclient,prompt=quiz_prompt,output_key=\"quiz\",verbose= True)"
   ]
  },
  {
   "cell_type": "code",
   "execution_count": 16,
   "metadata": {},
   "outputs": [
    {
     "data": {
      "text/plain": [
       "LLMChain(verbose=True, prompt=PromptTemplate(input_variables=['number', 'response_json', 'subject', 'text', 'tone'], template='\\nText:{text}\\nYou are an expert MCQ maker. Given the above text, it is your job to create a quiz  of {number} multiple choice questions for {subject} students in {tone} tone. \\nMake sure the questions are not repeated and check all the questions to be conforming the text as well.\\nMake sure to format your response like  RESPONSE_JSON below  and use it as a guide. Ensure to make {number} MCQs\\n### RESPONSE_JSON\\n{response_json}\\n\\n'), llm=AzureChatOpenAI(client=<openai.resources.chat.completions.Completions object at 0x000001CA169ED7D0>, async_client=<openai.resources.chat.completions.AsyncCompletions object at 0x000001CA16796FD0>, model_name='GPT4-Turbo', temperature=0.5, openai_api_key=SecretStr('**********'), openai_proxy='', azure_endpoint='https://deployment-gpt4.openai.azure.com', deployment_name='GPT4-Turbo', openai_api_version='2024-02-15-preview', openai_api_type='azure'), output_key='quiz')"
      ]
     },
     "execution_count": 16,
     "metadata": {},
     "output_type": "execute_result"
    }
   ],
   "source": [
    "quiz_chain1"
   ]
  },
  {
   "cell_type": "code",
   "execution_count": 19,
   "metadata": {},
   "outputs": [],
   "source": [
    "TEMPLATE2=\"\"\"\n",
    "You are an expert english grammarian and writer. Given a Multiple Choice Quiz for {subject} students.\\\n",
    "You need to evaluate the complexity of the question and give a complete analysis of the quiz. Only use at max 50 words for complexity analysis. \n",
    "if the quiz is not at per with the cognitive and analytical abilities of the students,\\\n",
    "update the quiz questions which needs to be changed and change the tone such that it perfectly fits the student abilities\n",
    "Quiz_MCQs:\n",
    "{quiz}\n",
    "\n",
    "Check from an expert English Writer of the above quiz:\n",
    "\"\"\""
   ]
  },
  {
   "cell_type": "code",
   "execution_count": 20,
   "metadata": {},
   "outputs": [],
   "source": [
    "quiz_prompt2 = PromptTemplate(input_variables=[\"subject\",\"quiz\"],template=TEMPLATE2)"
   ]
  },
  {
   "cell_type": "code",
   "execution_count": 21,
   "metadata": {},
   "outputs": [],
   "source": [
    "quiz_chain2 = LLMChain( llm=LLMclient,prompt=quiz_prompt2,output_key=\"resultKey\",verbose= True)"
   ]
  },
  {
   "cell_type": "code",
   "execution_count": 22,
   "metadata": {},
   "outputs": [],
   "source": [
    "connect_chains = SequentialChain(chains=[quiz_chain1,quiz_chain2],output_variables=[\"quiz\",\"resultKey\"],input_variables=[\"text\", \"number\", \"subject\", \"tone\", \"response_json\"], verbose=True)"
   ]
  },
  {
   "cell_type": "code",
   "execution_count": 23,
   "metadata": {},
   "outputs": [],
   "source": [
    "file_path=r\"C:\\Users\\MQ829CF\\Documents\\LearningSpace\\TryMCQ\\data.txt\"\n",
    "with open(file_path,encoding=\"utf8\",mode=\"r\") as file:\n",
    "    TEXT = file.read()"
   ]
  },
  {
   "cell_type": "code",
   "execution_count": 24,
   "metadata": {},
   "outputs": [
    {
     "data": {
      "text/plain": [
       "'{\"1\": {\"mcq\": \"multiple choice question\", \"options\": {\"a\": \"choice here\", \"b\": \"choice here\", \"c\": \"choice here\", \"d\": \"choice here\"}, \"correct\": \"correct answer\"}, \"2\": {\"mcq\": \"multiple choice question\", \"options\": {\"a\": \"choice here\", \"b\": \"choice here\", \"c\": \"choice here\", \"d\": \"choice here\"}, \"correct\": \"correct answer\"}, \"3\": {\"mcq\": \"multiple choice question\", \"options\": {\"a\": \"choice here\", \"b\": \"choice here\", \"c\": \"choice here\", \"d\": \"choice here\"}, \"correct\": \"correct answer\"}}'"
      ]
     },
     "execution_count": 24,
     "metadata": {},
     "output_type": "execute_result"
    }
   ],
   "source": [
    "json.dumps(RESPONSE_JSON)"
   ]
  },
  {
   "cell_type": "code",
   "execution_count": 25,
   "metadata": {},
   "outputs": [],
   "source": [
    "NUMBER=5 \n",
    "SUBJECT=\"Biodiversity\"\n",
    "TONE=\"simple\""
   ]
  },
  {
   "cell_type": "code",
   "execution_count": 27,
   "metadata": {},
   "outputs": [
    {
     "name": "stderr",
     "output_type": "stream",
     "text": [
      "c:\\Users\\MQ829CF\\Documents\\LearningSpace\\TryMCQ\\.venv\\Lib\\site-packages\\langchain_core\\_api\\deprecation.py:139: LangChainDeprecationWarning: The method `Chain.__call__` was deprecated in langchain 0.1.0 and will be removed in 0.3.0. Use invoke instead.\n",
      "  warn_deprecated(\n"
     ]
    },
    {
     "name": "stdout",
     "output_type": "stream",
     "text": [
      "\n",
      "\n",
      "\u001b[1m> Entering new SequentialChain chain...\u001b[0m\n",
      "\n",
      "\n",
      "\u001b[1m> Entering new LLMChain chain...\u001b[0m\n",
      "Prompt after formatting:\n",
      "\u001b[32;1m\u001b[1;3m\n",
      "Text:According to the Oxford English Dictionary (third edition 2009), the name \"India\" is derived from the Classical Latin India, a reference to South Asia and an uncertain region to its east. In turn the name \"India\" derived successively from Hellenistic Greek India ( Ἰνδία), ancient Greek Indos ( Ἰνδός), Old Persian Hindush (an eastern province of the Achaemenid Empire), and ultimately its cognate, the Sanskrit Sindhu, or \"river\", specifically the Indus River and, by implication, its well-settled southern basin.[73][74] The ancient Greeks referred to the Indians as Indoi (Ἰνδοί), which translates as \"The people of the Indus\".[75]\n",
      "\n",
      "The term Bharat (Bhārat; pronounced [ˈbʱaːɾət] ⓘ), mentioned in both Indian epic poetry and the Constitution of India,[76][77] is used in its variations by many Indian languages. A modern rendering of the historical name Bharatavarsha, which applied originally to North India,[78][79] Bharat gained increased currency from the mid-19th century as a native name for India.[76][80]\n",
      "\n",
      "Hindustan ([ɦɪndʊˈstaːn] ⓘ) is a Middle Persian name for India that became popular by the 13th century,[81] and was used widely since the era of the Mughal Empire. The meaning of Hindustan has varied, referring to a region encompassing present-day northern India and Pakistan or to India in its near entirety.[76][80][82]\n",
      "\n",
      "History\n",
      "Main articles: History of India and History of the Republic of India\n",
      "Ancient India\n",
      "\n",
      "Manuscript illustration, c. 1650, of the Sanskrit epic Ramayana, composed in story-telling fashion c. 400 BCE – c. 300 CE[83]\n",
      "By 55,000 years ago, the first modern humans, or Homo sapiens, had arrived on the Indian subcontinent from Africa, where they had earlier evolved.[28][29][30] The earliest known modern human remains in South Asia date to about 30,000 years ago.[28] After 6500 BCE, evidence for domestication of food crops and animals, construction of permanent structures, and storage of agricultural surplus appeared in Mehrgarh and other sites in Balochistan, Pakistan.[84] These gradually developed into the Indus Valley Civilisation,[85][84] the first urban culture in South Asia,[86] which flourished during 2500–1900 BCE in Pakistan and western India.[87] Centred around cities such as Mohenjo-daro, Harappa, Dholavira, and Kalibangan, and relying on varied forms of subsistence, the civilisation engaged robustly in crafts production and wide-ranging trade.[86]\n",
      "\n",
      "During the period 2000–500 BCE, many regions of the subcontinent transitioned from the Chalcolithic cultures to the Iron Age ones.[88] The Vedas, the oldest scriptures associated with Hinduism,[89] were composed during this period,[90] and historians have analysed these to posit a Vedic culture in the Punjab region and the upper Gangetic Plain.[88] Most historians also consider this period to have encompassed several waves of Indo-Aryan migration into the subcontinent from the north-west.[89] The caste system, which created a hierarchy of priests, warriors, and free peasants, but which excluded indigenous peoples by labelling their occupations impure, arose during this period.[91] On the Deccan Plateau, archaeological evidence from this period suggests the existence of a chiefdom stage of political organisation.[88] In South India, a progression to sedentary life is indicated by the large number of megalithic monuments dating from this period,[92] as well as by nearby traces of agriculture, irrigation tanks, and craft traditions.[92]\n",
      "\n",
      "\n",
      "Cave 26 of the rock-cut Ajanta Caves\n",
      "In the late Vedic period, around the 6th century BCE, the small states and chiefdoms of the Ganges Plain and the north-western regions had consolidated into 16 major oligarchies and monarchies that were known as the mahajanapadas.[93][94] The emerging urbanisation gave rise to non-Vedic religious movements, two of which became independent religions. Jainism came into prominence during the life of its exemplar, Mahavira.[95] Buddhism, based on the teachings of Gautama Buddha, attracted followers from all social classes excepting the middle class; chronicling the life of the Buddha was central to the beginnings of recorded history in India.[96][97][98] In an age of increasing urban wealth, both religions held up renunciation as an ideal,[99] and both established long-lasting monastic traditions. Politically, by the 3rd century BCE, the kingdom of Magadha had annexed or reduced other states to emerge as the Mauryan Empire.[100] The empire was once thought to have controlled most of the subcontinent except the far south, but its core regions are now thought to have been separated by large autonomous areas.[101][102] The Mauryan kings are known as much for their empire-building and determined management of public life as for Ashoka's renunciation of militarism and far-flung advocacy of the Buddhist dhamma.[103][104]\n",
      "\n",
      "The Sangam literature of the Tamil language reveals that, between 200 BCE and 200 CE, the southern peninsula was ruled by the Cheras, the Cholas, and the Pandyas, dynasties that traded extensively with the Roman Empire and with West and Southeast Asia.[105][106] In North India, Hinduism asserted patriarchal control within the family, leading to increased subordination of women.[107][100] By the 4th and 5th centuries, the Gupta Empire had created a complex system of administration and taxation in the greater Ganges Plain; this system became a model for later Indian kingdoms.[108][109] Under the Guptas, a renewed Hinduism based on devotion, rather than the management of ritual, began to assert itself.[110] This renewal was reflected in a flowering of sculpture and architecture, which found patrons among an urban elite.[109] Classical Sanskrit literature flowered as well, and Indian science, astronomy, medicine, and mathematics made significant advances.[109]\n",
      "\n",
      "Medieval India\n",
      "\n",
      "Brihadeshwara temple, Thanjavur, completed in 1010 CE\n",
      "\n",
      "The Qutub Minar, 73 m (240 ft) tall, completed by the Sultan of Delhi, Iltutmish\n",
      "The Indian early medieval age, from 600 to 1200 CE, is defined by regional kingdoms and cultural diversity.[111] When Harsha of Kannauj, who ruled much of the Indo-Gangetic Plain from 606 to 647 CE, attempted to expand southwards, he was defeated by the Chalukya ruler of the Deccan.[112] When his successor attempted to expand eastwards, he was defeated by the Pala king of Bengal.[112] When the Chalukyas attempted to expand southwards, they were defeated by the Pallavas from farther south, who in turn were opposed by the Pandyas and the Cholas from still farther south.[112] No ruler of this period was able to create an empire and consistently control lands much beyond their core region.[111] During this time, pastoral peoples, whose land had been cleared to make way for the growing agricultural economy, were accommodated within caste society, as were new non-traditional ruling classes.[113] The caste system consequently began to show regional differences.[113]\n",
      "\n",
      "In the 6th and 7th centuries, the first devotional hymns were created in the Tamil language.[114] They were imitated all over India and led to both the resurgence of Hinduism and the development of all modern languages of the subcontinent.[114] Indian royalty, big and small, and the temples they patronised drew citizens in great numbers to the capital cities, which became economic hubs as well.[115] Temple towns of various sizes began to appear everywhere as India underwent another urbanisation.[115] By the 8th and 9th centuries, the effects were felt in Southeast Asia, as South Indian culture and political systems were exported to lands that became part of modern-day Myanmar, Thailand, Laos, Brunei, Cambodia, Vietnam, Philippines, Malaysia, and Indonesia.[116] Indian merchants, scholars, and sometimes armies were involved in this transmission; Southeast Asians took the initiative as well, with many sojourning in Indian seminaries and translating Buddhist and Hindu texts into their languages.[116]\n",
      "\n",
      "After the 10th century, Muslim Central Asian nomadic clans, using swift-horse cavalry and raising vast armies united by ethnicity and religion, repeatedly overran South Asia's north-western plains, leading eventually to the establishment of the Islamic Delhi Sultanate in 1206.[117] The sultanate was to control much of North India and to make many forays into South India. Although at first disruptive for the Indian elites, the sultanate largely left its vast non-Muslim subject population to its own laws and customs.[118][119] By repeatedly repulsing Mongol raiders in the 13th century, the sultanate saved India from the devastation visited on West and Central Asia, setting the scene for centuries of migration of fleeing soldiers, learned men, mystics, traders, artists, and artisans from that region into the subcontinent, thereby creating a syncretic Indo-Islamic culture in the north.[120][121] The sultanate's raiding and weakening of the regional kingdoms of South India paved the way for the indigenous Vijayanagara Empire.[122] Embracing a strong Shaivite tradition and building upon the military technology of the sultanate, the empire came to control much of peninsular India,[123] and was to influence South Indian society for long afterwards.[122]\n",
      "\n",
      "Early modern India\n",
      "In the early 16th century, northern India, then under mainly Muslim rulers,[124] fell again to the superior mobility and firepower of a new generation of Central Asian warriors.[125] The resulting Mughal Empire did not stamp out the local societies it came to rule. Instead, it balanced and pacified them through new administrative practices[126][127] and diverse and inclusive ruling elites,[128] leading to more systematic, centralised, and uniform rule.[129] Eschewing tribal bonds and Islamic identity, especially under Akbar, the Mughals united their far-flung realms through loyalty, expressed through a Persianised culture, to an emperor who had near-divine status.[128] The Mughal state's economic policies, deriving most revenues from agriculture[130] and mandating that taxes be paid in the well-regulated silver currency,[131] caused peasants and artisans to enter larger markets.[129] The relative peace maintained by the empire during much of the 17th century was a factor in India's economic expansion,[129] resulting in greater patronage of painting, literary forms, textiles, and architecture.[132] Newly coherent social groups in northern and western India, such as the Marathas, the Rajputs, and the Sikhs, gained military and governing ambitions during Mughal rule, which, through collaboration or adversity, gave them both recognition and military experience.[133] Expanding commerce during Mughal rule gave rise to new Indian commercial and political elites along the coasts of southern and eastern India.[133] As the empire disintegrated, many among these elites were able to seek and control their own affairs.[134]\n",
      "\n",
      "\n",
      "A distant view of the Taj Mahal from the Agra Fort\n",
      "\n",
      "A two mohur Company gold coin, issued in 1835, the obverse inscribed \"William IV, King\"\n",
      "By the early 18th century, with the lines between commercial and political dominance being increasingly blurred, a number of European trading companies, including the English East India Company, had established coastal outposts.[135][136] The East India Company's control of the seas, greater resources, and more advanced military training and technology led it to increasingly assert its military strength and caused it to become attractive to a portion of the Indian elite; these factors were crucial in allowing the company to gain control over the Bengal region by 1765 and sideline the other European companies.[137][135][138][139] Its further access to the riches of Bengal and the subsequent increased strength and size of its army enabled it to annex or subdue most of India by the 1820s.[140] India was then no longer exporting manufactured goods as it long had, but was instead supplying the British Empire with raw materials. Many historians consider this to be the onset of India's colonial period.[135] By this time, with its economic power severely curtailed by the British parliament and having effectively been made an arm of British administration, the East India Company began more consciously to enter non-economic arenas, including education, social reform, and culture.[141]\n",
      "\n",
      "Modern India\n",
      "Main article: History of the Republic of India\n",
      "Historians consider India's modern age to have begun sometime between 1848 and 1885. The appointment in 1848 of Lord Dalhousie as Governor General of the East India Company set the stage for changes essential to a modern state. These included the consolidation and demarcation of sovereignty, the surveillance of the population, and the education of citizens. Technological changes—among them, railways, canals, and the telegraph—were introduced not long after their introduction in Europe.[142][143][144][145] However, disaffection with the company also grew during this time and set off the Indian Rebellion of 1857. Fed by diverse resentments and perceptions, including invasive British-style social reforms, harsh land taxes, and summary treatment of some rich landowners and princes, the rebellion rocked many regions of northern and central India and shook the foundations of Company rule.[146][147] Although the rebellion was suppressed by 1858, it led to the dissolution of the East India Company and the direct administration of India by the British government. Proclaiming a unitary state and a gradual but limited British-style parliamentary system, the new rulers also protected princes and landed gentry as a feudal safeguard against future unrest.[148][149] In the decades following, public life gradually emerged all over India, leading eventually to the founding of the Indian National Congress in 1885.[150][151][152][153]\n",
      "\n",
      "The rush of technology and the commercialisation of agriculture in the second half of the 19th century was marked by economic setbacks, and many small farmers became dependent on the whims of far-away markets.[154] There was an increase in the number of large-scale famines,[155] and, despite the risks of infrastructure development borne by Indian taxpayers, little industrial employment was generated for Indians.[156] There were also salutary effects: commercial cropping, especially in the newly canalled Punjab, led to increased food production for internal consumption.[157] The railway network provided critical famine relief,[158] notably reduced the cost of moving goods,[158] and helped nascent Indian-owned industry.[157]\n",
      "\n",
      "\n",
      "1909 map of the British Indian Empire\n",
      "\n",
      "Jawaharlal Nehru sharing a light moment with Mahatma Gandhi, Mumbai, 6 July 1946\n",
      "After World War I, in which approximately one million Indians served,[159] a new period began. It was marked by British reforms but also repressive legislation, by more strident Indian calls for self-rule, and by the beginnings of a nonviolent movement of non-co-operation, of which Mahatma Gandhi would become the leader and enduring symbol.[160] During the 1930s, slow legislative reform was enacted by the British; the Indian National Congress won victories in the resulting elections.[161] The next decade was beset with crises: Indian participation in World War II, the Congress's final push for non-co-operation, and an upsurge of Muslim nationalism. All were capped by the advent of independence in 1947, but tempered by the partition of India into two states: India and Pakistan.[162]\n",
      "\n",
      "Vital to India's self-image as an independent nation was its constitution, completed in 1950, which put in place a secular and democratic republic.[163] Per the London Declaration, India retained its membership of the Commonwealth, becoming the first republic within it.[164] Economic liberalisation, which began in the 1980s and the collaboration with Soviet Union for technical know-how,[165] has created a large urban middle class, transformed India into one of the world's fastest-growing economies,[166] and increased its geopolitical clout. Yet, India is also shaped by seemingly unyielding poverty, both rural and urban;[167] by religious and caste-related violence;[168] by Maoist-inspired Naxalite insurgencies;[169] and by separatism in Jammu and Kashmir and in Northeast India.[170] It has unresolved territorial disputes with China[171] and with Pakistan.[171] India's sustained democratic freedoms are unique among the world's newer nations; however, in spite of its recent economic successes, freedom from want for its disadvantaged population remains a goal yet to be achieved.[172]\n",
      "\n",
      "Geography\n",
      "Main article: Geography of India\n",
      "India accounts for the bulk of the Indian subcontinent, lying atop the Indian tectonic plate, a part of the Indo-Australian Plate.[173] India's defining geological processes began 75 million years ago when the Indian Plate, then part of the southern supercontinent Gondwana, began a north-eastward drift caused by seafloor spreading to its south-west, and later, south and south-east.[173] Simultaneously, the vast Tethyan oceanic crust, to its northeast, began to subduct under the Eurasian Plate.[173] These dual processes, driven by convection in the Earth's mantle, both created the Indian Ocean and caused the Indian continental crust eventually to under-thrust Eurasia and to uplift the Himalayas.[173] Immediately south of the emerging Himalayas, plate movement created a vast crescent-shaped trough that rapidly filled with river-borne sediment[174] and now constitutes the Indo-Gangetic Plain.[175] The original Indian plate makes its first appearance above the sediment in the ancient Aravalli range, which extends from the Delhi Ridge in a southwesterly direction. To the west lies the Thar Desert, the eastern spread of which is checked by the Aravallis.[176][177][178]\n",
      "\n",
      "\n",
      "The Tungabhadra, with rocky outcrops, flows into the peninsular Krishna River.[179]\n",
      "\n",
      "Fishing boats lashed together in a tidal creek in Anjarle village, Maharashtra\n",
      "The remaining Indian Plate survives as peninsular India, the oldest and geologically most stable part of India. It extends as far north as the Satpura and Vindhya ranges in central India. These parallel chains run from the Arabian Sea coast in Gujarat in the west to the coal-rich Chota Nagpur Plateau in Jharkhand in the east.[180] To the south, the remaining peninsular landmass, the Deccan Plateau, is flanked on the west and east by coastal ranges known as the Western and Eastern Ghats;[181] the plateau contains the country's oldest rock formations, some over one billion years old. Constituted in such fashion, India lies to the north of the equator between 6° 44′ and 35° 30′ north latitude[m] and 68° 7′ and 97° 25′ east longitude.[182]\n",
      "\n",
      "India's coastline measures 7,517 kilometres (4,700 mi) in length; of this distance, 5,423 kilometres (3,400 mi) belong to peninsular India and 2,094 kilometres (1,300 mi) to the Andaman, Nicobar, and Lakshadweep island chains.[183] According to the Indian naval hydrographic charts, the mainland coastline consists of the following: 43% sandy beaches; 11% rocky shores, including cliffs; and 46% mudflats or marshy shores.[183]\n",
      "\n",
      "Major Himalayan-origin rivers that substantially flow through India include the Ganges and the Brahmaputra, both of which drain into the Bay of Bengal.[184] Important tributaries of the Ganges include the Yamuna and the Kosi; the latter's extremely low gradient, caused by long-term silt deposition, leads to severe floods and course changes.[185][186] Major peninsular rivers, whose steeper gradients prevent their waters from flooding, include the Godavari, the Mahanadi, the Kaveri, and the Krishna, which also drain into the Bay of Bengal;[187] and the Narmada and the Tapti, which drain into the Arabian Sea.[188] Coastal features include the marshy Rann of Kutch of western India and the alluvial Sundarbans delta of eastern India; the latter is shared with Bangladesh.[189] India has two archipelagos: the Lakshadweep, coral atolls off India's south-western coast; and the Andaman and Nicobar Islands, a volcanic chain in the Andaman Sea.[190]\n",
      "\n",
      "Indian climate is strongly influenced by the Himalayas and the Thar Desert, both of which drive the economically and culturally pivotal summer and winter monsoons.[191] The Himalayas prevent cold Central Asian katabatic winds from blowing in, keeping the bulk of the Indian subcontinent warmer than most locations at similar latitudes.[192][193] The Thar Desert plays a crucial role in attracting the moisture-laden south-west summer monsoon winds that, between June and October, provide the majority of India's rainfall.[191] Four major climatic groupings predominate in India: tropical wet, tropical dry, subtropical humid, and montane.[194]\n",
      "\n",
      "Temperatures in India have risen by 0.7 °C (1.3 °F) between 1901 and 2018.[195] Climate change in India is often thought to be the cause. The retreat of Himalayan glaciers has adversely affected the flow rate of the major Himalayan rivers, including the Ganges and the Brahmaputra.[196] According to some current projections, the number and severity of droughts in India will have markedly increased by the end of the present century.[197] The right \"to be free from adverse impacts of climate change\" is legally recognized as a fundamental right in India.[198]\n",
      "\n",
      "Biodiversity\n",
      "Main articles: Forestry in India and Wildlife of India\n",
      "India is a megadiverse country, a term employed for 17 countries which display high biological diversity and contain many species exclusively indigenous, or endemic, to them.[199] India is a habitat for 8.6% of all mammal species, 13.7% of bird species, 7.9% of reptile species, 6% of amphibian species, 12.2% of fish species, and 6.0% of all flowering plant species.[200][201] Fully a third of Indian plant species are endemic.[202] India also contains four of the world's 34 biodiversity hotspots,[70] or regions that display significant habitat loss in the presence of high endemism.[n][203]\n",
      "\n",
      "According to official statistics, India's forest cover is 713,789 km2 (275,595 sq mi), which is 21.71% of the country's total land area.[71] It can be subdivided further into broad categories of canopy density, or the proportion of the area of a forest covered by its tree canopy.[204] Very dense forest, whose canopy density is greater than 70%, occupies 3.02% of India's land area.[204][205] It predominates in the tropical moist forest of the Andaman Islands, the Western Ghats, and Northeast India. Moderately dense forest, whose canopy density is between 40% and 70%, occupies 9.39% of India's land area.[204][205] It predominates in the temperate coniferous forest of the Himalayas, the moist deciduous sal forest of eastern India, and the dry deciduous teak forest of central and southern India.[206] Open forest, whose canopy density is between 10% and 40%, occupies 9.26% of India's land area.[204][205] India has two natural zones of thorn forest, one in the Deccan Plateau, immediately east of the Western Ghats, and the other in the western part of the Indo-Gangetic plain, now turned into rich agricultural land by irrigation, its features no longer visible.[207]\n",
      "\n",
      "Among the Indian subcontinent's notable indigenous trees are the astringent Azadirachta indica, or neem, which is widely used in rural Indian herbal medicine,[208] and the luxuriant Ficus religiosa, or peepul,[209] which is displayed on the ancient seals of Mohenjo-daro,[210] and under which the Buddha is recorded in the Pali canon to have sought enlightenment.[211]\n",
      "\n",
      "Many Indian species have descended from those of Gondwana, the southern supercontinent from which India separated more than 100 million years ago.[212] India's subsequent collision with Eurasia set off a mass exchange of species. However, volcanism and climatic changes later caused the extinction of many endemic Indian forms.[213] Still later, mammals entered India from Asia through two zoogeographical passes flanking the Himalayas.[214] This had the effect of lowering endemism among India's mammals, which stands at 12.6%, contrasting with 45.8% among reptiles and 55.8% among amphibians.[201] Among endemics are the vulnerable[215] hooded leaf monkey[216] and the threatened[217] Beddome's toad[217][218] of the Western Ghats.\n",
      "\n",
      "India contains 172 IUCN-designated threatened animal species, or 2.9% of endangered forms.[219] These include the endangered Bengal tiger and the Ganges river dolphin. Critically endangered species include the gharial, a crocodilian; the great Indian bustard; and the Indian white-rumped vulture, which has become nearly extinct by having ingested the carrion of diclofenac-treated cattle.[220] Before they were extensively used for agriculture and cleared for human settlement, the thorn forests of Punjab were mingled at intervals with open grasslands that were grazed by large herds of blackbuck preyed on by the Asiatic cheetah; the blackbuck, no longer extant in Punjab, is now severely endangered in India, and the cheetah is extinct.[221] The pervasive and ecologically devastating human encroachment of recent decades has critically endangered Indian wildlife. In response, the system of national parks and protected areas, first established in 1935, was expanded substantially. In 1972, India enacted the Wildlife Protection Act[222] and Project Tiger to safeguard crucial wilderness; the Forest Conservation Act was enacted in 1980 and amendments added in 1988.[223] India hosts more than five hundred wildlife sanctuaries and eighteen biosphere reserves,[224] four of which are part of the World Network of Biosphere Reserves; seventy-five wetlands are registered under the Ramsar Convention.[225]\n",
      "You are an expert MCQ maker. Given the above text, it is your job to create a quiz  of 5 multiple choice questions for Biodiversity students in simple tone. \n",
      "Make sure the questions are not repeated and check all the questions to be conforming the text as well.\n",
      "Make sure to format your response like  RESPONSE_JSON below  and use it as a guide. Ensure to make 5 MCQs\n",
      "### RESPONSE_JSON\n",
      "{\"1\": {\"mcq\": \"multiple choice question\", \"options\": {\"a\": \"choice here\", \"b\": \"choice here\", \"c\": \"choice here\", \"d\": \"choice here\"}, \"correct\": \"correct answer\"}, \"2\": {\"mcq\": \"multiple choice question\", \"options\": {\"a\": \"choice here\", \"b\": \"choice here\", \"c\": \"choice here\", \"d\": \"choice here\"}, \"correct\": \"correct answer\"}, \"3\": {\"mcq\": \"multiple choice question\", \"options\": {\"a\": \"choice here\", \"b\": \"choice here\", \"c\": \"choice here\", \"d\": \"choice here\"}, \"correct\": \"correct answer\"}}\n",
      "\n",
      "\u001b[0m\n",
      "\n",
      "\u001b[1m> Finished chain.\u001b[0m\n",
      "\n",
      "\n",
      "\u001b[1m> Entering new LLMChain chain...\u001b[0m\n",
      "Prompt after formatting:\n",
      "\u001b[32;1m\u001b[1;3m\n",
      "You are an expert english grammarian and writer. Given a Multiple Choice Quiz for Biodiversity students.You need to evaluate the complexity of the question and give a complete analysis of the quiz. Only use at max 50 words for complexity analysis. \n",
      "if the quiz is not at per with the cognitive and analytical abilities of the students,update the quiz questions which needs to be changed and change the tone such that it perfectly fits the student abilities\n",
      "Quiz_MCQs:\n",
      "```json\n",
      "{\n",
      "  \"1\": {\n",
      "    \"mcq\": \"What percentage of India's total land area is covered by forest?\",\n",
      "    \"options\": {\n",
      "      \"a\": \"15.71%\",\n",
      "      \"b\": \"21.71%\",\n",
      "      \"c\": \"25.32%\",\n",
      "      \"d\": \"30.05%\"\n",
      "    },\n",
      "    \"correct\": \"b\"\n",
      "  },\n",
      "  \"2\": {\n",
      "    \"mcq\": \"Which of the following species is considered vulnerable in India?\",\n",
      "    \"options\": {\n",
      "      \"a\": \"Bengal tiger\",\n",
      "      \"b\": \"Ganges river dolphin\",\n",
      "      \"c\": \"Hooded leaf monkey\",\n",
      "      \"d\": \"Indian white-rumped vulture\"\n",
      "    },\n",
      "    \"correct\": \"c\"\n",
      "  },\n",
      "  \"3\": {\n",
      "    \"mcq\": \"How many biodiversity hotspots are present in India?\",\n",
      "    \"options\": {\n",
      "      \"a\": \"2\",\n",
      "      \"b\": \"4\",\n",
      "      \"c\": \"6\",\n",
      "      \"d\": \"8\"\n",
      "    },\n",
      "    \"correct\": \"b\"\n",
      "  },\n",
      "  \"4\": {\n",
      "    \"mcq\": \"What is the percentage of mammal species that India is a habitat for?\",\n",
      "    \"options\": {\n",
      "      \"a\": \"8.6%\",\n",
      "      \"b\": \"12.6%\",\n",
      "      \"c\": \"13.7%\",\n",
      "      \"d\": \"7.9%\"\n",
      "    },\n",
      "    \"correct\": \"a\"\n",
      "  },\n",
      "  \"5\": {\n",
      "    \"mcq\": \"Which Indian tree is widely used in rural Indian herbal medicine?\",\n",
      "    \"options\": {\n",
      "      \"a\": \"Neem (Azadirachta indica)\",\n",
      "      \"b\": \"Peepul (Ficus religiosa)\",\n",
      "      \"c\": \"Sal (Shorea robusta)\",\n",
      "      \"d\": \"Teak (Tectona grandis)\"\n",
      "    },\n",
      "    \"correct\": \"a\"\n",
      "  }\n",
      "}\n",
      "```\n",
      "\n",
      "Check from an expert English Writer of the above quiz:\n",
      "\u001b[0m\n",
      "\n",
      "\u001b[1m> Finished chain.\u001b[0m\n",
      "\n",
      "\u001b[1m> Finished chain.\u001b[0m\n"
     ]
    }
   ],
   "source": [
    "with get_openai_callback() as cb:\n",
    "    response=connect_chains(\n",
    "        {\n",
    "            \"text\": TEXT,\n",
    "            \"number\": NUMBER,\n",
    "            \"subject\":SUBJECT,\n",
    "            \"tone\": TONE,\n",
    "            \"response_json\": json.dumps(RESPONSE_JSON)\n",
    "        }\n",
    "        )"
   ]
  },
  {
   "cell_type": "code",
   "execution_count": 36,
   "metadata": {},
   "outputs": [
    {
     "data": {
      "text/plain": [
       "{'text': 'According to the Oxford English Dictionary (third edition 2009), the name \"India\" is derived from the Classical Latin India, a reference to South Asia and an uncertain region to its east. In turn the name \"India\" derived successively from Hellenistic Greek India ( Ἰνδία), ancient Greek Indos ( Ἰνδός), Old Persian Hindush (an eastern province of the Achaemenid Empire), and ultimately its cognate, the Sanskrit Sindhu, or \"river\", specifically the Indus River and, by implication, its well-settled southern basin.[73][74] The ancient Greeks referred to the Indians as Indoi (Ἰνδοί), which translates as \"The people of the Indus\".[75]\\n\\nThe term Bharat (Bhārat; pronounced [ˈbʱaːɾət] ⓘ), mentioned in both Indian epic poetry and the Constitution of India,[76][77] is used in its variations by many Indian languages. A modern rendering of the historical name Bharatavarsha, which applied originally to North India,[78][79] Bharat gained increased currency from the mid-19th century as a native name for India.[76][80]\\n\\nHindustan ([ɦɪndʊˈstaːn] ⓘ) is a Middle Persian name for India that became popular by the 13th century,[81] and was used widely since the era of the Mughal Empire. The meaning of Hindustan has varied, referring to a region encompassing present-day northern India and Pakistan or to India in its near entirety.[76][80][82]\\n\\nHistory\\nMain articles: History of India and History of the Republic of India\\nAncient India\\n\\nManuscript illustration, c.\\u20091650, of the Sanskrit epic Ramayana, composed in story-telling fashion c.\\u2009400 BCE – c.\\u2009300 CE[83]\\nBy 55,000 years ago, the first modern humans, or Homo sapiens, had arrived on the Indian subcontinent from Africa, where they had earlier evolved.[28][29][30] The earliest known modern human remains in South Asia date to about 30,000 years ago.[28] After 6500 BCE, evidence for domestication of food crops and animals, construction of permanent structures, and storage of agricultural surplus appeared in Mehrgarh and other sites in Balochistan, Pakistan.[84] These gradually developed into the Indus Valley Civilisation,[85][84] the first urban culture in South Asia,[86] which flourished during 2500–1900 BCE in Pakistan and western India.[87] Centred around cities such as Mohenjo-daro, Harappa, Dholavira, and Kalibangan, and relying on varied forms of subsistence, the civilisation engaged robustly in crafts production and wide-ranging trade.[86]\\n\\nDuring the period 2000–500 BCE, many regions of the subcontinent transitioned from the Chalcolithic cultures to the Iron Age ones.[88] The Vedas, the oldest scriptures associated with Hinduism,[89] were composed during this period,[90] and historians have analysed these to posit a Vedic culture in the Punjab region and the upper Gangetic Plain.[88] Most historians also consider this period to have encompassed several waves of Indo-Aryan migration into the subcontinent from the north-west.[89] The caste system, which created a hierarchy of priests, warriors, and free peasants, but which excluded indigenous peoples by labelling their occupations impure, arose during this period.[91] On the Deccan Plateau, archaeological evidence from this period suggests the existence of a chiefdom stage of political organisation.[88] In South India, a progression to sedentary life is indicated by the large number of megalithic monuments dating from this period,[92] as well as by nearby traces of agriculture, irrigation tanks, and craft traditions.[92]\\n\\n\\nCave 26 of the rock-cut Ajanta Caves\\nIn the late Vedic period, around the 6th century BCE, the small states and chiefdoms of the Ganges Plain and the north-western regions had consolidated into 16 major oligarchies and monarchies that were known as the mahajanapadas.[93][94] The emerging urbanisation gave rise to non-Vedic religious movements, two of which became independent religions. Jainism came into prominence during the life of its exemplar, Mahavira.[95] Buddhism, based on the teachings of Gautama Buddha, attracted followers from all social classes excepting the middle class; chronicling the life of the Buddha was central to the beginnings of recorded history in India.[96][97][98] In an age of increasing urban wealth, both religions held up renunciation as an ideal,[99] and both established long-lasting monastic traditions. Politically, by the 3rd century BCE, the kingdom of Magadha had annexed or reduced other states to emerge as the Mauryan Empire.[100] The empire was once thought to have controlled most of the subcontinent except the far south, but its core regions are now thought to have been separated by large autonomous areas.[101][102] The Mauryan kings are known as much for their empire-building and determined management of public life as for Ashoka\\'s renunciation of militarism and far-flung advocacy of the Buddhist dhamma.[103][104]\\n\\nThe Sangam literature of the Tamil language reveals that, between 200 BCE and 200 CE, the southern peninsula was ruled by the Cheras, the Cholas, and the Pandyas, dynasties that traded extensively with the Roman Empire and with West and Southeast Asia.[105][106] In North India, Hinduism asserted patriarchal control within the family, leading to increased subordination of women.[107][100] By the 4th and 5th centuries, the Gupta Empire had created a complex system of administration and taxation in the greater Ganges Plain; this system became a model for later Indian kingdoms.[108][109] Under the Guptas, a renewed Hinduism based on devotion, rather than the management of ritual, began to assert itself.[110] This renewal was reflected in a flowering of sculpture and architecture, which found patrons among an urban elite.[109] Classical Sanskrit literature flowered as well, and Indian science, astronomy, medicine, and mathematics made significant advances.[109]\\n\\nMedieval India\\n\\nBrihadeshwara temple, Thanjavur, completed in 1010 CE\\n\\nThe Qutub Minar, 73 m (240 ft) tall, completed by the Sultan of Delhi, Iltutmish\\nThe Indian early medieval age, from 600 to 1200 CE, is defined by regional kingdoms and cultural diversity.[111] When Harsha of Kannauj, who ruled much of the Indo-Gangetic Plain from 606 to 647 CE, attempted to expand southwards, he was defeated by the Chalukya ruler of the Deccan.[112] When his successor attempted to expand eastwards, he was defeated by the Pala king of Bengal.[112] When the Chalukyas attempted to expand southwards, they were defeated by the Pallavas from farther south, who in turn were opposed by the Pandyas and the Cholas from still farther south.[112] No ruler of this period was able to create an empire and consistently control lands much beyond their core region.[111] During this time, pastoral peoples, whose land had been cleared to make way for the growing agricultural economy, were accommodated within caste society, as were new non-traditional ruling classes.[113] The caste system consequently began to show regional differences.[113]\\n\\nIn the 6th and 7th centuries, the first devotional hymns were created in the Tamil language.[114] They were imitated all over India and led to both the resurgence of Hinduism and the development of all modern languages of the subcontinent.[114] Indian royalty, big and small, and the temples they patronised drew citizens in great numbers to the capital cities, which became economic hubs as well.[115] Temple towns of various sizes began to appear everywhere as India underwent another urbanisation.[115] By the 8th and 9th centuries, the effects were felt in Southeast Asia, as South Indian culture and political systems were exported to lands that became part of modern-day Myanmar, Thailand, Laos, Brunei, Cambodia, Vietnam, Philippines, Malaysia, and Indonesia.[116] Indian merchants, scholars, and sometimes armies were involved in this transmission; Southeast Asians took the initiative as well, with many sojourning in Indian seminaries and translating Buddhist and Hindu texts into their languages.[116]\\n\\nAfter the 10th century, Muslim Central Asian nomadic clans, using swift-horse cavalry and raising vast armies united by ethnicity and religion, repeatedly overran South Asia\\'s north-western plains, leading eventually to the establishment of the Islamic Delhi Sultanate in 1206.[117] The sultanate was to control much of North India and to make many forays into South India. Although at first disruptive for the Indian elites, the sultanate largely left its vast non-Muslim subject population to its own laws and customs.[118][119] By repeatedly repulsing Mongol raiders in the 13th century, the sultanate saved India from the devastation visited on West and Central Asia, setting the scene for centuries of migration of fleeing soldiers, learned men, mystics, traders, artists, and artisans from that region into the subcontinent, thereby creating a syncretic Indo-Islamic culture in the north.[120][121] The sultanate\\'s raiding and weakening of the regional kingdoms of South India paved the way for the indigenous Vijayanagara Empire.[122] Embracing a strong Shaivite tradition and building upon the military technology of the sultanate, the empire came to control much of peninsular India,[123] and was to influence South Indian society for long afterwards.[122]\\n\\nEarly modern India\\nIn the early 16th century, northern India, then under mainly Muslim rulers,[124] fell again to the superior mobility and firepower of a new generation of Central Asian warriors.[125] The resulting Mughal Empire did not stamp out the local societies it came to rule. Instead, it balanced and pacified them through new administrative practices[126][127] and diverse and inclusive ruling elites,[128] leading to more systematic, centralised, and uniform rule.[129] Eschewing tribal bonds and Islamic identity, especially under Akbar, the Mughals united their far-flung realms through loyalty, expressed through a Persianised culture, to an emperor who had near-divine status.[128] The Mughal state\\'s economic policies, deriving most revenues from agriculture[130] and mandating that taxes be paid in the well-regulated silver currency,[131] caused peasants and artisans to enter larger markets.[129] The relative peace maintained by the empire during much of the 17th century was a factor in India\\'s economic expansion,[129] resulting in greater patronage of painting, literary forms, textiles, and architecture.[132] Newly coherent social groups in northern and western India, such as the Marathas, the Rajputs, and the Sikhs, gained military and governing ambitions during Mughal rule, which, through collaboration or adversity, gave them both recognition and military experience.[133] Expanding commerce during Mughal rule gave rise to new Indian commercial and political elites along the coasts of southern and eastern India.[133] As the empire disintegrated, many among these elites were able to seek and control their own affairs.[134]\\n\\n\\nA distant view of the Taj Mahal from the Agra Fort\\n\\nA two mohur Company gold coin, issued in 1835, the obverse inscribed \"William IV, King\"\\nBy the early 18th century, with the lines between commercial and political dominance being increasingly blurred, a number of European trading companies, including the English East India Company, had established coastal outposts.[135][136] The East India Company\\'s control of the seas, greater resources, and more advanced military training and technology led it to increasingly assert its military strength and caused it to become attractive to a portion of the Indian elite; these factors were crucial in allowing the company to gain control over the Bengal region by 1765 and sideline the other European companies.[137][135][138][139] Its further access to the riches of Bengal and the subsequent increased strength and size of its army enabled it to annex or subdue most of India by the 1820s.[140] India was then no longer exporting manufactured goods as it long had, but was instead supplying the British Empire with raw materials. Many historians consider this to be the onset of India\\'s colonial period.[135] By this time, with its economic power severely curtailed by the British parliament and having effectively been made an arm of British administration, the East India Company began more consciously to enter non-economic arenas, including education, social reform, and culture.[141]\\n\\nModern India\\nMain article: History of the Republic of India\\nHistorians consider India\\'s modern age to have begun sometime between 1848 and 1885. The appointment in 1848 of Lord Dalhousie as Governor General of the East India Company set the stage for changes essential to a modern state. These included the consolidation and demarcation of sovereignty, the surveillance of the population, and the education of citizens. Technological changes—among them, railways, canals, and the telegraph—were introduced not long after their introduction in Europe.[142][143][144][145] However, disaffection with the company also grew during this time and set off the Indian Rebellion of 1857. Fed by diverse resentments and perceptions, including invasive British-style social reforms, harsh land taxes, and summary treatment of some rich landowners and princes, the rebellion rocked many regions of northern and central India and shook the foundations of Company rule.[146][147] Although the rebellion was suppressed by 1858, it led to the dissolution of the East India Company and the direct administration of India by the British government. Proclaiming a unitary state and a gradual but limited British-style parliamentary system, the new rulers also protected princes and landed gentry as a feudal safeguard against future unrest.[148][149] In the decades following, public life gradually emerged all over India, leading eventually to the founding of the Indian National Congress in 1885.[150][151][152][153]\\n\\nThe rush of technology and the commercialisation of agriculture in the second half of the 19th century was marked by economic setbacks, and many small farmers became dependent on the whims of far-away markets.[154] There was an increase in the number of large-scale famines,[155] and, despite the risks of infrastructure development borne by Indian taxpayers, little industrial employment was generated for Indians.[156] There were also salutary effects: commercial cropping, especially in the newly canalled Punjab, led to increased food production for internal consumption.[157] The railway network provided critical famine relief,[158] notably reduced the cost of moving goods,[158] and helped nascent Indian-owned industry.[157]\\n\\n\\n1909 map of the British Indian Empire\\n\\nJawaharlal Nehru sharing a light moment with Mahatma Gandhi, Mumbai, 6 July 1946\\nAfter World War I, in which approximately one million Indians served,[159] a new period began. It was marked by British reforms but also repressive legislation, by more strident Indian calls for self-rule, and by the beginnings of a nonviolent movement of non-co-operation, of which Mahatma Gandhi would become the leader and enduring symbol.[160] During the 1930s, slow legislative reform was enacted by the British; the Indian National Congress won victories in the resulting elections.[161] The next decade was beset with crises: Indian participation in World War II, the Congress\\'s final push for non-co-operation, and an upsurge of Muslim nationalism. All were capped by the advent of independence in 1947, but tempered by the partition of India into two states: India and Pakistan.[162]\\n\\nVital to India\\'s self-image as an independent nation was its constitution, completed in 1950, which put in place a secular and democratic republic.[163] Per the London Declaration, India retained its membership of the Commonwealth, becoming the first republic within it.[164] Economic liberalisation, which began in the 1980s and the collaboration with Soviet Union for technical know-how,[165] has created a large urban middle class, transformed India into one of the world\\'s fastest-growing economies,[166] and increased its geopolitical clout. Yet, India is also shaped by seemingly unyielding poverty, both rural and urban;[167] by religious and caste-related violence;[168] by Maoist-inspired Naxalite insurgencies;[169] and by separatism in Jammu and Kashmir and in Northeast India.[170] It has unresolved territorial disputes with China[171] and with Pakistan.[171] India\\'s sustained democratic freedoms are unique among the world\\'s newer nations; however, in spite of its recent economic successes, freedom from want for its disadvantaged population remains a goal yet to be achieved.[172]\\n\\nGeography\\nMain article: Geography of India\\nIndia accounts for the bulk of the Indian subcontinent, lying atop the Indian tectonic plate, a part of the Indo-Australian Plate.[173] India\\'s defining geological processes began 75 million years ago when the Indian Plate, then part of the southern supercontinent Gondwana, began a north-eastward drift caused by seafloor spreading to its south-west, and later, south and south-east.[173] Simultaneously, the vast Tethyan oceanic crust, to its northeast, began to subduct under the Eurasian Plate.[173] These dual processes, driven by convection in the Earth\\'s mantle, both created the Indian Ocean and caused the Indian continental crust eventually to under-thrust Eurasia and to uplift the Himalayas.[173] Immediately south of the emerging Himalayas, plate movement created a vast crescent-shaped trough that rapidly filled with river-borne sediment[174] and now constitutes the Indo-Gangetic Plain.[175] The original Indian plate makes its first appearance above the sediment in the ancient Aravalli range, which extends from the Delhi Ridge in a southwesterly direction. To the west lies the Thar Desert, the eastern spread of which is checked by the Aravallis.[176][177][178]\\n\\n\\nThe Tungabhadra, with rocky outcrops, flows into the peninsular Krishna River.[179]\\n\\nFishing boats lashed together in a tidal creek in Anjarle village, Maharashtra\\nThe remaining Indian Plate survives as peninsular India, the oldest and geologically most stable part of India. It extends as far north as the Satpura and Vindhya ranges in central India. These parallel chains run from the Arabian Sea coast in Gujarat in the west to the coal-rich Chota Nagpur Plateau in Jharkhand in the east.[180] To the south, the remaining peninsular landmass, the Deccan Plateau, is flanked on the west and east by coastal ranges known as the Western and Eastern Ghats;[181] the plateau contains the country\\'s oldest rock formations, some over one billion years old. Constituted in such fashion, India lies to the north of the equator between 6° 44′ and 35° 30′ north latitude[m] and 68° 7′ and 97° 25′ east longitude.[182]\\n\\nIndia\\'s coastline measures 7,517 kilometres (4,700 mi) in length; of this distance, 5,423 kilometres (3,400 mi) belong to peninsular India and 2,094 kilometres (1,300 mi) to the Andaman, Nicobar, and Lakshadweep island chains.[183] According to the Indian naval hydrographic charts, the mainland coastline consists of the following: 43% sandy beaches; 11% rocky shores, including cliffs; and 46% mudflats or marshy shores.[183]\\n\\nMajor Himalayan-origin rivers that substantially flow through India include the Ganges and the Brahmaputra, both of which drain into the Bay of Bengal.[184] Important tributaries of the Ganges include the Yamuna and the Kosi; the latter\\'s extremely low gradient, caused by long-term silt deposition, leads to severe floods and course changes.[185][186] Major peninsular rivers, whose steeper gradients prevent their waters from flooding, include the Godavari, the Mahanadi, the Kaveri, and the Krishna, which also drain into the Bay of Bengal;[187] and the Narmada and the Tapti, which drain into the Arabian Sea.[188] Coastal features include the marshy Rann of Kutch of western India and the alluvial Sundarbans delta of eastern India; the latter is shared with Bangladesh.[189] India has two archipelagos: the Lakshadweep, coral atolls off India\\'s south-western coast; and the Andaman and Nicobar Islands, a volcanic chain in the Andaman Sea.[190]\\n\\nIndian climate is strongly influenced by the Himalayas and the Thar Desert, both of which drive the economically and culturally pivotal summer and winter monsoons.[191] The Himalayas prevent cold Central Asian katabatic winds from blowing in, keeping the bulk of the Indian subcontinent warmer than most locations at similar latitudes.[192][193] The Thar Desert plays a crucial role in attracting the moisture-laden south-west summer monsoon winds that, between June and October, provide the majority of India\\'s rainfall.[191] Four major climatic groupings predominate in India: tropical wet, tropical dry, subtropical humid, and montane.[194]\\n\\nTemperatures in India have risen by 0.7 °C (1.3 °F) between 1901 and 2018.[195] Climate change in India is often thought to be the cause. The retreat of Himalayan glaciers has adversely affected the flow rate of the major Himalayan rivers, including the Ganges and the Brahmaputra.[196] According to some current projections, the number and severity of droughts in India will have markedly increased by the end of the present century.[197] The right \"to be free from adverse impacts of climate change\" is legally recognized as a fundamental right in India.[198]\\n\\nBiodiversity\\nMain articles: Forestry in India and Wildlife of India\\nIndia is a megadiverse country, a term employed for 17 countries which display high biological diversity and contain many species exclusively indigenous, or endemic, to them.[199] India is a habitat for 8.6% of all mammal species, 13.7% of bird species, 7.9% of reptile species, 6% of amphibian species, 12.2% of fish species, and 6.0% of all flowering plant species.[200][201] Fully a third of Indian plant species are endemic.[202] India also contains four of the world\\'s 34 biodiversity hotspots,[70] or regions that display significant habitat loss in the presence of high endemism.[n][203]\\n\\nAccording to official statistics, India\\'s forest cover is 713,789 km2 (275,595 sq mi), which is 21.71% of the country\\'s total land area.[71] It can be subdivided further into broad categories of canopy density, or the proportion of the area of a forest covered by its tree canopy.[204] Very dense forest, whose canopy density is greater than 70%, occupies 3.02% of India\\'s land area.[204][205] It predominates in the tropical moist forest of the Andaman Islands, the Western Ghats, and Northeast India. Moderately dense forest, whose canopy density is between 40% and 70%, occupies 9.39% of India\\'s land area.[204][205] It predominates in the temperate coniferous forest of the Himalayas, the moist deciduous sal forest of eastern India, and the dry deciduous teak forest of central and southern India.[206] Open forest, whose canopy density is between 10% and 40%, occupies 9.26% of India\\'s land area.[204][205] India has two natural zones of thorn forest, one in the Deccan Plateau, immediately east of the Western Ghats, and the other in the western part of the Indo-Gangetic plain, now turned into rich agricultural land by irrigation, its features no longer visible.[207]\\n\\nAmong the Indian subcontinent\\'s notable indigenous trees are the astringent Azadirachta indica, or neem, which is widely used in rural Indian herbal medicine,[208] and the luxuriant Ficus religiosa, or peepul,[209] which is displayed on the ancient seals of Mohenjo-daro,[210] and under which the Buddha is recorded in the Pali canon to have sought enlightenment.[211]\\n\\nMany Indian species have descended from those of Gondwana, the southern supercontinent from which India separated more than 100 million years ago.[212] India\\'s subsequent collision with Eurasia set off a mass exchange of species. However, volcanism and climatic changes later caused the extinction of many endemic Indian forms.[213] Still later, mammals entered India from Asia through two zoogeographical passes flanking the Himalayas.[214] This had the effect of lowering endemism among India\\'s mammals, which stands at 12.6%, contrasting with 45.8% among reptiles and 55.8% among amphibians.[201] Among endemics are the vulnerable[215] hooded leaf monkey[216] and the threatened[217] Beddome\\'s toad[217][218] of the Western Ghats.\\n\\nIndia contains 172 IUCN-designated threatened animal species, or 2.9% of endangered forms.[219] These include the endangered Bengal tiger and the Ganges river dolphin. Critically endangered species include the gharial, a crocodilian; the great Indian bustard; and the Indian white-rumped vulture, which has become nearly extinct by having ingested the carrion of diclofenac-treated cattle.[220] Before they were extensively used for agriculture and cleared for human settlement, the thorn forests of Punjab were mingled at intervals with open grasslands that were grazed by large herds of blackbuck preyed on by the Asiatic cheetah; the blackbuck, no longer extant in Punjab, is now severely endangered in India, and the cheetah is extinct.[221] The pervasive and ecologically devastating human encroachment of recent decades has critically endangered Indian wildlife. In response, the system of national parks and protected areas, first established in 1935, was expanded substantially. In 1972, India enacted the Wildlife Protection Act[222] and Project Tiger to safeguard crucial wilderness; the Forest Conservation Act was enacted in 1980 and amendments added in 1988.[223] India hosts more than five hundred wildlife sanctuaries and eighteen biosphere reserves,[224] four of which are part of the World Network of Biosphere Reserves; seventy-five wetlands are registered under the Ramsar Convention.[225]',\n",
       " 'number': 5,\n",
       " 'subject': 'Biodiversity',\n",
       " 'tone': 'simple',\n",
       " 'response_json': '{\"1\": {\"mcq\": \"multiple choice question\", \"options\": {\"a\": \"choice here\", \"b\": \"choice here\", \"c\": \"choice here\", \"d\": \"choice here\"}, \"correct\": \"correct answer\"}, \"2\": {\"mcq\": \"multiple choice question\", \"options\": {\"a\": \"choice here\", \"b\": \"choice here\", \"c\": \"choice here\", \"d\": \"choice here\"}, \"correct\": \"correct answer\"}, \"3\": {\"mcq\": \"multiple choice question\", \"options\": {\"a\": \"choice here\", \"b\": \"choice here\", \"c\": \"choice here\", \"d\": \"choice here\"}, \"correct\": \"correct answer\"}}',\n",
       " 'quiz': '```json\\n{\\n  \"1\": {\\n    \"mcq\": \"What percentage of India\\'s total land area is covered by forest?\",\\n    \"options\": {\\n      \"a\": \"15.71%\",\\n      \"b\": \"21.71%\",\\n      \"c\": \"25.32%\",\\n      \"d\": \"30.05%\"\\n    },\\n    \"correct\": \"b\"\\n  },\\n  \"2\": {\\n    \"mcq\": \"Which of the following species is considered vulnerable in India?\",\\n    \"options\": {\\n      \"a\": \"Bengal tiger\",\\n      \"b\": \"Ganges river dolphin\",\\n      \"c\": \"Hooded leaf monkey\",\\n      \"d\": \"Indian white-rumped vulture\"\\n    },\\n    \"correct\": \"c\"\\n  },\\n  \"3\": {\\n    \"mcq\": \"How many biodiversity hotspots are present in India?\",\\n    \"options\": {\\n      \"a\": \"2\",\\n      \"b\": \"4\",\\n      \"c\": \"6\",\\n      \"d\": \"8\"\\n    },\\n    \"correct\": \"b\"\\n  },\\n  \"4\": {\\n    \"mcq\": \"What is the percentage of mammal species that India is a habitat for?\",\\n    \"options\": {\\n      \"a\": \"8.6%\",\\n      \"b\": \"12.6%\",\\n      \"c\": \"13.7%\",\\n      \"d\": \"7.9%\"\\n    },\\n    \"correct\": \"a\"\\n  },\\n  \"5\": {\\n    \"mcq\": \"Which Indian tree is widely used in rural Indian herbal medicine?\",\\n    \"options\": {\\n      \"a\": \"Neem (Azadirachta indica)\",\\n      \"b\": \"Peepul (Ficus religiosa)\",\\n      \"c\": \"Sal (Shorea robusta)\",\\n      \"d\": \"Teak (Tectona grandis)\"\\n    },\\n    \"correct\": \"a\"\\n  }\\n}\\n```',\n",
       " 'resultKey': 'Complexity Analysis:\\nThe quiz presents clear, straightforward questions with a focus on factual recall rather than deep analytical thinking. The complexity is suitable for introductory-level biodiversity students, but might not fully engage those at an intermediate or advanced level seeking to apply or critically evaluate knowledge.\\n\\nQuiz Evaluation and Updates:\\n\\n1. Original: \"What percentage of India\\'s total land area is covered by forest?\"\\n   - Evaluation: Clear and direct, appropriate for assessing basic knowledge. No change needed.\\n\\n2. Original: \"Which of the following species is considered vulnerable in India?\"\\n   - Evaluation: The question is clear but misses an opportunity to require deeper understanding or application of conservation status criteria.\\n   - Updated: \"Considering the IUCN Red List, which of the following species found in India is classified as vulnerable due to habitat loss and hunting?\"\\n\\n3. Original: \"How many biodiversity hotspots are present in India?\"\\n   - Evaluation: Good for testing specific geographical knowledge, but could be expanded to include reasoning.\\n   - Updated: \"India is home to several biodiversity hotspots. What is the number of these hotspots, recognized for their rich species diversity and significant threat levels?\"\\n\\n4. Original: \"What is the percentage of mammal species that India is a habitat for?\"\\n   - Evaluation: The question tests specific factual knowledge. It is well-structured for an introductory level.\\n   - Suggestion: No change needed, but consider asking for examples of endemic mammal species to increase complexity.\\n\\n5. Original: \"Which Indian tree is widely used in rural Indian herbal medicine?\"\\n   - Evaluation: This question tests knowledge of practical applications of biodiversity, which is excellent. However, it could be rephrased for clarity.\\n   - Updated: \"Identify the tree extensively utilized in rural Indian traditional medicine practices for its medicinal properties.\"\\n\\nOverall, the quiz questions are well-formulated for evaluating basic knowledge in biodiversity. Minor adjustments can enhance their depth, encouraging students to not only recall information but also understand its application and significance within the field of biodiversity conservation.'}"
      ]
     },
     "execution_count": 36,
     "metadata": {},
     "output_type": "execute_result"
    }
   ],
   "source": [
    "response"
   ]
  },
  {
   "cell_type": "code",
   "execution_count": 29,
   "metadata": {},
   "outputs": [
    {
     "name": "stdout",
     "output_type": "stream",
     "text": [
      "Total Tokens:7277\n",
      "Prompt Tokens:6468\n",
      "Completion Tokens:809\n",
      "Total Cost:0.24258\n"
     ]
    }
   ],
   "source": [
    "print(f\"Total Tokens:{cb.total_tokens}\")\n",
    "print(f\"Prompt Tokens:{cb.prompt_tokens}\")\n",
    "print(f\"Completion Tokens:{cb.completion_tokens}\")\n",
    "print(f\"Total Cost:{cb.total_cost}\")"
   ]
  },
  {
   "cell_type": "code",
   "execution_count": 37,
   "metadata": {},
   "outputs": [],
   "source": [
    "quiz_data=response.get(\"quiz\")\n"
   ]
  },
  {
   "cell_type": "code",
   "execution_count": 38,
   "metadata": {},
   "outputs": [
    {
     "data": {
      "text/plain": [
       "'```json\\n{\\n  \"1\": {\\n    \"mcq\": \"What percentage of India\\'s total land area is covered by forest?\",\\n    \"options\": {\\n      \"a\": \"15.71%\",\\n      \"b\": \"21.71%\",\\n      \"c\": \"25.32%\",\\n      \"d\": \"30.05%\"\\n    },\\n    \"correct\": \"b\"\\n  },\\n  \"2\": {\\n    \"mcq\": \"Which of the following species is considered vulnerable in India?\",\\n    \"options\": {\\n      \"a\": \"Bengal tiger\",\\n      \"b\": \"Ganges river dolphin\",\\n      \"c\": \"Hooded leaf monkey\",\\n      \"d\": \"Indian white-rumped vulture\"\\n    },\\n    \"correct\": \"c\"\\n  },\\n  \"3\": {\\n    \"mcq\": \"How many biodiversity hotspots are present in India?\",\\n    \"options\": {\\n      \"a\": \"2\",\\n      \"b\": \"4\",\\n      \"c\": \"6\",\\n      \"d\": \"8\"\\n    },\\n    \"correct\": \"b\"\\n  },\\n  \"4\": {\\n    \"mcq\": \"What is the percentage of mammal species that India is a habitat for?\",\\n    \"options\": {\\n      \"a\": \"8.6%\",\\n      \"b\": \"12.6%\",\\n      \"c\": \"13.7%\",\\n      \"d\": \"7.9%\"\\n    },\\n    \"correct\": \"a\"\\n  },\\n  \"5\": {\\n    \"mcq\": \"Which Indian tree is widely used in rural Indian herbal medicine?\",\\n    \"options\": {\\n      \"a\": \"Neem (Azadirachta indica)\",\\n      \"b\": \"Peepul (Ficus religiosa)\",\\n      \"c\": \"Sal (Shorea robusta)\",\\n      \"d\": \"Teak (Tectona grandis)\"\\n    },\\n    \"correct\": \"a\"\\n  }\\n}\\n```'"
      ]
     },
     "execution_count": 38,
     "metadata": {},
     "output_type": "execute_result"
    }
   ],
   "source": [
    "quiz_data"
   ]
  },
  {
   "cell_type": "code",
   "execution_count": 42,
   "metadata": {},
   "outputs": [
    {
     "ename": "JSONDecodeError",
     "evalue": "Expecting value: line 1 column 1 (char 0)",
     "output_type": "error",
     "traceback": [
      "\u001b[1;31m---------------------------------------------------------------------------\u001b[0m",
      "\u001b[1;31mJSONDecodeError\u001b[0m                           Traceback (most recent call last)",
      "Cell \u001b[1;32mIn[42], line 1\u001b[0m\n\u001b[1;32m----> 1\u001b[0m quiz_data\u001b[38;5;241m=\u001b[39m\u001b[43mjson\u001b[49m\u001b[38;5;241;43m.\u001b[39;49m\u001b[43mloads\u001b[49m\u001b[43m(\u001b[49m\u001b[43mresponse\u001b[49m\u001b[38;5;241;43m.\u001b[39;49m\u001b[43mget\u001b[49m\u001b[43m(\u001b[49m\u001b[38;5;124;43m\"\u001b[39;49m\u001b[38;5;124;43mquiz\u001b[39;49m\u001b[38;5;124;43m\"\u001b[39;49m\u001b[43m)\u001b[49m\u001b[43m)\u001b[49m\n",
      "File \u001b[1;32m~\\AppData\\Local\\Programs\\Python\\Python311\\Lib\\json\\__init__.py:346\u001b[0m, in \u001b[0;36mloads\u001b[1;34m(s, cls, object_hook, parse_float, parse_int, parse_constant, object_pairs_hook, **kw)\u001b[0m\n\u001b[0;32m    341\u001b[0m     s \u001b[38;5;241m=\u001b[39m s\u001b[38;5;241m.\u001b[39mdecode(detect_encoding(s), \u001b[38;5;124m'\u001b[39m\u001b[38;5;124msurrogatepass\u001b[39m\u001b[38;5;124m'\u001b[39m)\n\u001b[0;32m    343\u001b[0m \u001b[38;5;28;01mif\u001b[39;00m (\u001b[38;5;28mcls\u001b[39m \u001b[38;5;129;01mis\u001b[39;00m \u001b[38;5;28;01mNone\u001b[39;00m \u001b[38;5;129;01mand\u001b[39;00m object_hook \u001b[38;5;129;01mis\u001b[39;00m \u001b[38;5;28;01mNone\u001b[39;00m \u001b[38;5;129;01mand\u001b[39;00m\n\u001b[0;32m    344\u001b[0m         parse_int \u001b[38;5;129;01mis\u001b[39;00m \u001b[38;5;28;01mNone\u001b[39;00m \u001b[38;5;129;01mand\u001b[39;00m parse_float \u001b[38;5;129;01mis\u001b[39;00m \u001b[38;5;28;01mNone\u001b[39;00m \u001b[38;5;129;01mand\u001b[39;00m\n\u001b[0;32m    345\u001b[0m         parse_constant \u001b[38;5;129;01mis\u001b[39;00m \u001b[38;5;28;01mNone\u001b[39;00m \u001b[38;5;129;01mand\u001b[39;00m object_pairs_hook \u001b[38;5;129;01mis\u001b[39;00m \u001b[38;5;28;01mNone\u001b[39;00m \u001b[38;5;129;01mand\u001b[39;00m \u001b[38;5;129;01mnot\u001b[39;00m kw):\n\u001b[1;32m--> 346\u001b[0m     \u001b[38;5;28;01mreturn\u001b[39;00m \u001b[43m_default_decoder\u001b[49m\u001b[38;5;241;43m.\u001b[39;49m\u001b[43mdecode\u001b[49m\u001b[43m(\u001b[49m\u001b[43ms\u001b[49m\u001b[43m)\u001b[49m\n\u001b[0;32m    347\u001b[0m \u001b[38;5;28;01mif\u001b[39;00m \u001b[38;5;28mcls\u001b[39m \u001b[38;5;129;01mis\u001b[39;00m \u001b[38;5;28;01mNone\u001b[39;00m:\n\u001b[0;32m    348\u001b[0m     \u001b[38;5;28mcls\u001b[39m \u001b[38;5;241m=\u001b[39m JSONDecoder\n",
      "File \u001b[1;32m~\\AppData\\Local\\Programs\\Python\\Python311\\Lib\\json\\decoder.py:337\u001b[0m, in \u001b[0;36mJSONDecoder.decode\u001b[1;34m(self, s, _w)\u001b[0m\n\u001b[0;32m    332\u001b[0m \u001b[38;5;28;01mdef\u001b[39;00m \u001b[38;5;21mdecode\u001b[39m(\u001b[38;5;28mself\u001b[39m, s, _w\u001b[38;5;241m=\u001b[39mWHITESPACE\u001b[38;5;241m.\u001b[39mmatch):\n\u001b[0;32m    333\u001b[0m \u001b[38;5;250m    \u001b[39m\u001b[38;5;124;03m\"\"\"Return the Python representation of ``s`` (a ``str`` instance\u001b[39;00m\n\u001b[0;32m    334\u001b[0m \u001b[38;5;124;03m    containing a JSON document).\u001b[39;00m\n\u001b[0;32m    335\u001b[0m \n\u001b[0;32m    336\u001b[0m \u001b[38;5;124;03m    \"\"\"\u001b[39;00m\n\u001b[1;32m--> 337\u001b[0m     obj, end \u001b[38;5;241m=\u001b[39m \u001b[38;5;28;43mself\u001b[39;49m\u001b[38;5;241;43m.\u001b[39;49m\u001b[43mraw_decode\u001b[49m\u001b[43m(\u001b[49m\u001b[43ms\u001b[49m\u001b[43m,\u001b[49m\u001b[43m \u001b[49m\u001b[43midx\u001b[49m\u001b[38;5;241;43m=\u001b[39;49m\u001b[43m_w\u001b[49m\u001b[43m(\u001b[49m\u001b[43ms\u001b[49m\u001b[43m,\u001b[49m\u001b[43m \u001b[49m\u001b[38;5;241;43m0\u001b[39;49m\u001b[43m)\u001b[49m\u001b[38;5;241;43m.\u001b[39;49m\u001b[43mend\u001b[49m\u001b[43m(\u001b[49m\u001b[43m)\u001b[49m\u001b[43m)\u001b[49m\n\u001b[0;32m    338\u001b[0m     end \u001b[38;5;241m=\u001b[39m _w(s, end)\u001b[38;5;241m.\u001b[39mend()\n\u001b[0;32m    339\u001b[0m     \u001b[38;5;28;01mif\u001b[39;00m end \u001b[38;5;241m!=\u001b[39m \u001b[38;5;28mlen\u001b[39m(s):\n",
      "File \u001b[1;32m~\\AppData\\Local\\Programs\\Python\\Python311\\Lib\\json\\decoder.py:355\u001b[0m, in \u001b[0;36mJSONDecoder.raw_decode\u001b[1;34m(self, s, idx)\u001b[0m\n\u001b[0;32m    353\u001b[0m     obj, end \u001b[38;5;241m=\u001b[39m \u001b[38;5;28mself\u001b[39m\u001b[38;5;241m.\u001b[39mscan_once(s, idx)\n\u001b[0;32m    354\u001b[0m \u001b[38;5;28;01mexcept\u001b[39;00m \u001b[38;5;167;01mStopIteration\u001b[39;00m \u001b[38;5;28;01mas\u001b[39;00m err:\n\u001b[1;32m--> 355\u001b[0m     \u001b[38;5;28;01mraise\u001b[39;00m JSONDecodeError(\u001b[38;5;124m\"\u001b[39m\u001b[38;5;124mExpecting value\u001b[39m\u001b[38;5;124m\"\u001b[39m, s, err\u001b[38;5;241m.\u001b[39mvalue) \u001b[38;5;28;01mfrom\u001b[39;00m \u001b[38;5;28;01mNone\u001b[39;00m\n\u001b[0;32m    356\u001b[0m \u001b[38;5;28;01mreturn\u001b[39;00m obj, end\n",
      "\u001b[1;31mJSONDecodeError\u001b[0m: Expecting value: line 1 column 1 (char 0)"
     ]
    }
   ],
   "source": [
    "quiz_data=json.loads(response.get(\"quiz\"))"
   ]
  }
 ],
 "metadata": {
  "kernelspec": {
   "display_name": ".venv",
   "language": "python",
   "name": "python3"
  },
  "language_info": {
   "codemirror_mode": {
    "name": "ipython",
    "version": 3
   },
   "file_extension": ".py",
   "mimetype": "text/x-python",
   "name": "python",
   "nbconvert_exporter": "python",
   "pygments_lexer": "ipython3",
   "version": "3.11.9"
  }
 },
 "nbformat": 4,
 "nbformat_minor": 2
}
